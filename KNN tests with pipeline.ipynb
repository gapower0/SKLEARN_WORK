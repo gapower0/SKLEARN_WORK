{
 "cells": [
  {
   "cell_type": "code",
   "execution_count": 70,
   "metadata": {
    "collapsed": false
   },
   "outputs": [],
   "source": [
    "# pandas\n",
    "import pandas as pd\n",
    "from pandas import Series,DataFrame\n",
    "\n",
    "# numpy, matplotlib, seaborn\n",
    "import numpy as np\n",
    "import matplotlib.pyplot as plt\n",
    "%matplotlib inline\n",
    "\n",
    "from sklearn.neighbors import KNeighborsClassifier\n",
    "from sklearn.preprocessing import StandardScaler\n",
    "from sklearn.preprocessing import MinMaxScaler\n",
    "from sklearn.decomposition import PCA\n",
    "\n",
    "from sklearn.cross_validation import train_test_split,cross_val_score\n",
    "from sklearn.metrics import roc_curve,auc\n",
    "from sklearn.grid_search import GridSearchCV\n",
    "from sklearn import metrics\n",
    "from sklearn.pipeline import Pipeline\n",
    "import time"
   ]
  },
  {
   "cell_type": "code",
   "execution_count": 2,
   "metadata": {
    "collapsed": true
   },
   "outputs": [],
   "source": [
    "def clean(data):\n",
    "    data[\"Age\"] = data[\"Age\"].fillna(data[\"Age\"].mean())\n",
    "    data[\"Embarked\"] = data[\"Embarked\"].fillna(\"S\")\n",
    "    data.dropna(subset = [\"Cabin\"])\n",
    "    data.loc[data[\"Sex\"] == \"male\", \"Sex\"] = 0\n",
    "    data.loc[data[\"Sex\"] == \"female\", \"Sex\"] = 1\n",
    "    data.loc[data[\"Embarked\"] == \"S\", \"Embarked\"] = 0\n",
    "    data.loc[data[\"Embarked\"] == \"C\", \"Embarked\"] = 1\n",
    "    data.loc[data[\"Embarked\"] == \"Q\", \"Embarked\"] = 2\n",
    "    return data"
   ]
  },
  {
   "cell_type": "code",
   "execution_count": 49,
   "metadata": {
    "collapsed": true
   },
   "outputs": [],
   "source": [
    "# get titanic & test csv files as a DataFrame\n",
    "data = pd.read_csv(\"./train.csv\", dtype={\"Age\": np.float64}, )\n",
    "data = clean(data)\n",
    "predictors = [\"Pclass\",\"Sex\",\"Age\",\"Embarked\",\"SibSp\"]\n",
    "#predictors = [\"Pclass\",\"Sex\",\"Age\",\"Embarked\",\"SibSp\",\"Parch\",\"Fare\"]\n",
    "X = data[predictors]\n",
    "y = data['Survived']"
   ]
  },
  {
   "cell_type": "code",
   "execution_count": 50,
   "metadata": {
    "collapsed": false
   },
   "outputs": [],
   "source": [
    "def checkPCA(data):\n",
    "    pca = PCA(n_components = None)\n",
    "    X_pca = pca.fit_transform(data)\n",
    "    print pca.explained_variance_ratio_\n",
    "    \n",
    "    tot = sum(pca.explained_variance_ratio_)\n",
    "    var_exp = [(i/tot) for i in (pca.explained_variance_ratio_)]\n",
    "    cum_var_exp = np.cumsum(var_exp)\n",
    "\n",
    "    ind = np.arange(len(pca.explained_variance_ratio_))\n",
    "    plt.bar(ind, var_exp, alpha=0.2, align='center', label='individual variance')\n",
    "    plt.step(ind, cum_var_exp,where='mid',label='cumulative variance')\n",
    "    plt.xlabel('Principal components')\n",
    "    plt.ylabel('Explained variance')\n",
    "    plt.legend(loc='best')\n",
    "    plt.show()"
   ]
  },
  {
   "cell_type": "code",
   "execution_count": 51,
   "metadata": {
    "collapsed": false
   },
   "outputs": [
    {
     "name": "stdout",
     "output_type": "stream",
     "text": [
      "[ 0.98599832  0.00672787  0.00369303  0.00238383  0.00119695]\n"
     ]
    },
    {
     "data": {
      "image/png": "[encoded data removed]",
      "text/plain": [
       "<matplotlib.figure.Figure at 0x11abe8350>"
      ]
     },
     "metadata": {},
     "output_type": "display_data"
    }
   ],
   "source": [
    "checkPCA(X)"
   ]
  },
  {
   "cell_type": "code",
   "execution_count": 69,
   "metadata": {
    "collapsed": true
   },
   "outputs": [],
   "source": [
    "pipe_knn_g = Pipeline([('scl',StandardScaler()),\n",
    "                       ('clf',KNeighborsClassifier())])                        "
   ]
  },
  {
   "cell_type": "code",
   "execution_count": 65,
   "metadata": {
    "collapsed": true
   },
   "outputs": [],
   "source": [
    "# define the KNN grid parameters\n",
    "neighbors = range(1,100)\n",
    "weights = ['uniform','distance']\n",
    "algo = ['auto', 'ball_tree', 'kd_tree', 'brute']\n",
    "distance = ['euclidean','manhattan','minkowski']\n",
    "param_grid_knn = [{'clf__n_neighbors':neighbors,\n",
    "                   'clf__algorithm':algo,\n",
    "                   'clf__metric':distance,\n",
    "                   'clf__weights':weights}]"
   ]
  },
  {
   "cell_type": "code",
   "execution_count": 66,
   "metadata": {
    "collapsed": true
   },
   "outputs": [],
   "source": [
    "gs = GridSearchCV(estimator=pipe_knn_g,\n",
    "                 param_grid = param_grid_knn,\n",
    "                 scoring='accuracy',\n",
    "                 cv=10)"
   ]
  },
  {
   "cell_type": "code",
   "execution_count": 72,
   "metadata": {
    "collapsed": false
   },
   "outputs": [],
   "source": [
    "gs = gs.fit(X,y)"
   ]
  },
  {
   "cell_type": "code",
   "execution_count": 73,
   "metadata": {
    "collapsed": false
   },
   "outputs": [
    {
     "name": "stdout",
     "output_type": "stream",
     "text": [
      "{'clf__metric': 'manhattan', 'clf__weights': 'uniform', 'clf__algorithm': 'auto', 'clf__n_neighbors': 22}\n",
      "0.818181818182\n"
     ]
    }
   ],
   "source": [
    "print(gs.best_params_)\n",
    "print(gs.best_score_)"
   ]
  },
  {
   "cell_type": "code",
   "execution_count": null,
   "metadata": {
    "collapsed": true
   },
   "outputs": [],
   "source": []
  }
 ],
 "metadata": {
  "kernelspec": {
   "display_name": "Python 2",
   "language": "python",
   "name": "python2"
  },
  "language_info": {
   "codemirror_mode": {
    "name": "ipython",
    "version": 2
   },
   "file_extension": ".py",
   "mimetype": "text/x-python",
   "name": "python",
   "nbconvert_exporter": "python",
   "pygments_lexer": "ipython2",
   "version": "2.7.11"
  }
 },
 "nbformat": 4,
 "nbformat_minor": 0
}
